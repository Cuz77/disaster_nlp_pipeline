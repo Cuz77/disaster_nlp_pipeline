{
 "cells": [
  {
   "cell_type": "markdown",
   "id": "18a2d864",
   "metadata": {},
   "source": [
    "## ETL Pipeline\n"
   ]
  },
  {
   "cell_type": "markdown",
   "id": "62b04194",
   "metadata": {},
   "source": [
    "What it does..."
   ]
  },
  {
   "cell_type": "markdown",
   "id": "c81b3b61",
   "metadata": {},
   "source": [
    "Export"
   ]
  },
  {
   "cell_type": "code",
   "execution_count": 14,
   "id": "5a6d75fd",
   "metadata": {},
   "outputs": [],
   "source": [
    "# import libraries\n",
    "import pandas as pd\n",
    "from sqlalchemy import create_engine"
   ]
  },
  {
   "cell_type": "code",
   "execution_count": 15,
   "id": "14e591ee",
   "metadata": {},
   "outputs": [],
   "source": [
    "# load datasets\n",
    "messages = pd.read_csv('../messages.csv')\n",
    "categories = pd.read_csv('../categories.csv')"
   ]
  },
  {
   "cell_type": "markdown",
   "id": "85d52262",
   "metadata": {},
   "source": [
    "Transform"
   ]
  },
  {
   "cell_type": "code",
   "execution_count": 16,
   "id": "173e5b8c",
   "metadata": {},
   "outputs": [],
   "source": [
    "# merge datasets\n",
    "df = messages.merge(categories, on='id')"
   ]
  },
  {
   "cell_type": "code",
   "execution_count": 17,
   "id": "fb717929",
   "metadata": {},
   "outputs": [
    {
     "name": "stdout",
     "output_type": "stream",
     "text": [
      "['related' 'request' 'offer' 'aid_related' 'medical_help'\n",
      " 'medical_products' 'search_and_rescue' 'security' 'military'\n",
      " 'child_alone' 'water' 'food' 'shelter' 'clothing' 'money'\n",
      " 'missing_people' 'refugees' 'death' 'other_aid' 'infrastructure_related'\n",
      " 'transport' 'buildings' 'electricity' 'tools' 'hospitals' 'shops'\n",
      " 'aid_centers' 'other_infrastructure' 'weather_related' 'floods' 'storm'\n",
      " 'fire' 'earthquake' 'cold' 'other_weather' 'direct_report']\n"
     ]
    }
   ],
   "source": [
    "# create a dataframe of the 36 individual category columns\n",
    "categories = df['categories'].str.split(';', expand=True)\n",
    "\n",
    "# fetch categories' names from the first row of data (it looks like: '[category_name]-[bool]')\n",
    "row = categories.iloc[0,].str.split('-').apply(lambda x: x[0])\n",
    "category_colnames = row.values\n",
    "categories.columns = category_colnames\n",
    "\n",
    "print(category_colnames)"
   ]
  },
  {
   "cell_type": "code",
   "execution_count": 18,
   "id": "e28e51ee",
   "metadata": {},
   "outputs": [],
   "source": [
    "# replace categories' dummy string values (e.g.: '[category_name]-[bool]') with boolean values as int\n",
    "for column in categories:\n",
    "    # set each value to be the last character of the string\n",
    "    categories[column] = categories[column].str[-1]\n",
    "    # convert column from string to numeric\n",
    "    categories[column] = categories[column].astype(int)\n",
    "\n",
    "df.drop(columns=['categories'], inplace=True)"
   ]
  },
  {
   "cell_type": "code",
   "execution_count": 19,
   "id": "0f39eb1d",
   "metadata": {},
   "outputs": [],
   "source": [
    "# concatenate messages w/ category features\n",
    "df = pd.concat([df, categories], axis=1)"
   ]
  },
  {
   "cell_type": "code",
   "execution_count": 20,
   "id": "850f4549",
   "metadata": {},
   "outputs": [],
   "source": [
    "# drop duplicates\n",
    "df.drop_duplicates(inplace=True)"
   ]
  },
  {
   "cell_type": "markdown",
   "id": "f92cb040",
   "metadata": {},
   "source": [
    "Load"
   ]
  },
  {
   "cell_type": "code",
   "execution_count": 24,
   "id": "995ff22d",
   "metadata": {},
   "outputs": [
    {
     "data": {
      "text/plain": [
       "26216"
      ]
     },
     "execution_count": 24,
     "metadata": {},
     "output_type": "execute_result"
    }
   ],
   "source": [
    "# load files to sql db\n",
    "engine = create_engine('sqlite:///DB/disaster_messages.db')\n",
    "df.to_sql('DB/disaster_messages', engine, index=False)"
   ]
  },
  {
   "cell_type": "code",
   "execution_count": null,
   "id": "cc6dcd6f",
   "metadata": {},
   "outputs": [],
   "source": []
  },
  {
   "cell_type": "code",
   "execution_count": null,
   "id": "ba91bea7",
   "metadata": {},
   "outputs": [],
   "source": []
  }
 ],
 "metadata": {
  "kernelspec": {
   "display_name": "Python 3 (ipykernel)",
   "language": "python",
   "name": "python3"
  },
  "language_info": {
   "codemirror_mode": {
    "name": "ipython",
    "version": 3
   },
   "file_extension": ".py",
   "mimetype": "text/x-python",
   "name": "python",
   "nbconvert_exporter": "python",
   "pygments_lexer": "ipython3",
   "version": "3.10.2"
  }
 },
 "nbformat": 4,
 "nbformat_minor": 5
}
